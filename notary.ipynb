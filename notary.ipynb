{
 "cells": [
  {
   "cell_type": "markdown",
   "metadata": {},
   "source": [
    "Jupyter Notebook <b>Notary</b> contains three scripts that perform the following transformations:\n",
    "\n",
    "- JPG to PNG with `Pillow`,\n",
    "- PNG text to TXT with `pytesseract`,\n",
    "- and PDF text to TXT with `pdf2image` and `pytesseract`.\n",
    "\n",
    "This tool was initially designed to retrieve valuable information from images, such as screenshots of scanned books."
   ]
  },
  {
   "cell_type": "code",
   "execution_count": null,
   "metadata": {},
   "outputs": [],
   "source": [
    "# !pip install Pillow pytesseract pdf2image"
   ]
  },
  {
   "cell_type": "code",
   "execution_count": null,
   "metadata": {},
   "outputs": [],
   "source": [
    "# JPG TO PNG\n",
    "from PIL import Image\n",
    "import os\n",
    "\n",
    "# Function to convert a single image from JPEG to PNG\n",
    "def convert_to_png(input_path, output_path):\n",
    "    try:\n",
    "        img = Image.open(input_path)\n",
    "        img.save(output_path, 'PNG')\n",
    "        print(f\"Converted: {input_path} -> {output_path}\")\n",
    "    except Exception as e:\n",
    "        print(f\"Failed to convert {input_path}: {str(e)}\")\n",
    "\n",
    "# Function to convert all JPEG images in a directory to PNG\n",
    "def convert_all_jpeg_to_png(input_dir, output_dir):\n",
    "    if not os.path.exists(output_dir):\n",
    "        os.makedirs(output_dir)\n",
    "\n",
    "    for filename in os.listdir(input_dir):\n",
    "        if filename.endswith('.jpg') or filename.endswith('.jpeg'):\n",
    "            input_path = os.path.join(input_dir, filename)\n",
    "            output_filename = os.path.splitext(filename)[0] + '.png'\n",
    "            output_path = os.path.join(output_dir, output_filename)\n",
    "            convert_to_png(input_path, output_path)\n",
    "\n",
    "if __name__ == \"__main__\":\n",
    "    input_directory = \"/absolute/path/to/file\"\n",
    "    output_directory = \"/absolute/path/\"\n",
    "    convert_all_jpeg_to_png(input_directory, output_directory)"
   ]
  },
  {
   "cell_type": "code",
   "execution_count": null,
   "metadata": {},
   "outputs": [],
   "source": [
    "# PNG TEXT FOLDER TO TXT\n",
    "import cv2\n",
    "import pytesseract\n",
    "import os\n",
    "\n",
    "def main():\n",
    "    \"\"\"The main function.\"\"\"\n",
    "    folder_path = \"/absolute/path/to/folder\"\n",
    "    output_file = open(\"output.txt\", \"w\")\n",
    "    # Get a list of all the PNG files in the folder.\n",
    "    png_files = os.listdir(folder_path)\n",
    "    # Iterate over the PNG files.\n",
    "    for png_file in png_files:\n",
    "        # Read the PNG file.\n",
    "        image = cv2.imread(os.path.join(folder_path, png_file))\n",
    "        # Recognize the text in the PNG file.\n",
    "        text = pytesseract.image_to_string(image)\n",
    "        # Save the text to a file.\n",
    "        with open(os.path.join(folder_path, png_file.replace(\".png\", \".txt\")), \"w\") as f:\n",
    "            f.write(text)\n",
    "\n",
    "    # Create a list of all the txt files in the folder\n",
    "    txt_files = []\n",
    "    for file in os.listdir(folder_path):\n",
    "        if file.endswith(\".txt\"):\n",
    "            txt_files.append(os.path.join(folder_path, file))\n",
    "\n",
    "    # Sort the list\n",
    "    sorted_list = sorted(txt_files)\n",
    "    print(sorted_list)\n",
    "\n",
    "    # Iterate over the txt files and read their contents\n",
    "    for txt_file in sorted_list:\n",
    "        with open(txt_file, \"r\") as f:\n",
    "            output_file.write(f.read())\n",
    "\n",
    "    # Close the output file\n",
    "    output_file.close()\n",
    "\n",
    "if __name__ == \"__main__\":\n",
    "    main()"
   ]
  },
  {
   "cell_type": "code",
   "execution_count": 2,
   "metadata": {},
   "outputs": [],
   "source": [
    "# PDF TO TXT\n",
    "import pytesseract\n",
    "from pdf2image import convert_from_path\n",
    "\n",
    "def pdf_to_txt(pdf_path, output_path):\n",
    "  \"\"\"Converts a PDF file to a TXT file.\"\"\"\n",
    "  # Convert the PDF file to images.\n",
    "  images = convert_from_path(pdf_path, dpi=300, fmt=\"PNG\")\n",
    "  # Extract the text from the images.\n",
    "  texts = [pytesseract.image_to_string(img) for img in images]\n",
    "  # Write the text to a file.\n",
    "  with open(output_path, \"w\") as file:\n",
    "    for text in texts:\n",
    "      file.write(text)\n",
    "\n",
    "if __name__ == \"__main__\":\n",
    "  pdf_path = \"/absolute/path/to/file.pdf\"\n",
    "  output_path = \"/path/to/file.txt\"\n",
    "\n",
    "  pdf_to_txt(pdf_path, output_path)"
   ]
  }
 ],
 "metadata": {
  "kernelspec": {
   "display_name": "Python 3",
   "language": "python",
   "name": "python3"
  },
  "language_info": {
   "codemirror_mode": {
    "name": "ipython",
    "version": 3
   },
   "file_extension": ".py",
   "mimetype": "text/x-python",
   "name": "python",
   "nbconvert_exporter": "python",
   "pygments_lexer": "ipython3",
   "version": "3.11.6"
  },
  "orig_nbformat": 4
 },
 "nbformat": 4,
 "nbformat_minor": 2
}
