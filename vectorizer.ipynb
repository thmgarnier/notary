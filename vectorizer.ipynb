{
 "cells": [
  {
   "cell_type": "code",
   "execution_count": 10,
   "metadata": {},
   "outputs": [],
   "source": [
    "#!pip install opencv-python scikit-image ezdxf svgwrite"
   ]
  },
  {
   "cell_type": "code",
   "execution_count": 11,
   "metadata": {},
   "outputs": [],
   "source": [
    "from skimage import io, color, measure\n",
    "import svgwrite\n",
    "\n",
    "def png_to_svg(png_path, svg_path):\n",
    "    # Load the image\n",
    "    image = io.imread(png_path)\n",
    "\n",
    "    # Check if the image has an alpha channel (4 channels)\n",
    "    if image.shape[-1] == 4:\n",
    "        # Convert RGBA to RGB by removing the alpha channel\n",
    "        image = color.rgba2rgb(image)\n",
    "\n",
    "    # Convert to grayscale\n",
    "    gray_image = color.rgb2gray(image)\n",
    "    \n",
    "    # Find contours\n",
    "    contours = measure.find_contours(gray_image, 0.8)\n",
    "    \n",
    "    # Create an SVG file\n",
    "    dwg = svgwrite.Drawing(svg_path, profile='tiny')\n",
    "    \n",
    "    # Add each contour to the SVG\n",
    "    for contour in contours:\n",
    "        # Scale the contour to fit the image\n",
    "        contour = [(x, y) for x, y in contour]\n",
    "        dwg.add(dwg.polyline(contour, stroke='black', fill='none'))\n",
    "    \n",
    "    # Save the SVG file\n",
    "    dwg.save()"
   ]
  },
  {
   "cell_type": "code",
   "execution_count": 12,
   "metadata": {},
   "outputs": [],
   "source": [
    "import ezdxf\n",
    "\n",
    "def svg_to_dxf(svg_path, dxf_path):\n",
    "    import xml.etree.ElementTree as ET\n",
    "    \n",
    "    doc = ezdxf.new('R2010')\n",
    "    msp = doc.modelspace()\n",
    "\n",
    "    tree = ET.parse(svg_path)\n",
    "    root = tree.getroot()\n",
    "\n",
    "    # Iterate over the paths in the SVG and add them to the DXF file\n",
    "    for polyline in root.findall('.//{http://www.w3.org/2000/svg}polyline'):\n",
    "        points = polyline.get('points').strip().split(' ')\n",
    "        points = [tuple(map(float, p.split(','))) for p in points]\n",
    "        msp.add_polyline2d(points)\n",
    "    \n",
    "    doc.saveas(dxf_path)\n",
    "\n"
   ]
  },
  {
   "cell_type": "code",
   "execution_count": 13,
   "metadata": {},
   "outputs": [
    {
     "ename": "PermissionError",
     "evalue": "[Errno 13] Permission denied: 'tractor2.dxf'",
     "output_type": "error",
     "traceback": [
      "\u001b[1;31m---------------------------------------------------------------------------\u001b[0m",
      "\u001b[1;31mPermissionError\u001b[0m                           Traceback (most recent call last)",
      "Cell \u001b[1;32mIn[13], line 4\u001b[0m\n\u001b[0;32m      1\u001b[0m file \u001b[38;5;241m=\u001b[39m \u001b[38;5;124m\"\u001b[39m\u001b[38;5;124mtractor2\u001b[39m\u001b[38;5;124m\"\u001b[39m\n\u001b[0;32m      3\u001b[0m png_to_svg(\u001b[38;5;124mf\u001b[39m\u001b[38;5;124m'\u001b[39m\u001b[38;5;132;01m{\u001b[39;00mfile\u001b[38;5;132;01m}\u001b[39;00m\u001b[38;5;124m.png\u001b[39m\u001b[38;5;124m'\u001b[39m, \u001b[38;5;124mf\u001b[39m\u001b[38;5;124m'\u001b[39m\u001b[38;5;132;01m{\u001b[39;00mfile\u001b[38;5;132;01m}\u001b[39;00m\u001b[38;5;124m.svg\u001b[39m\u001b[38;5;124m'\u001b[39m)\n\u001b[1;32m----> 4\u001b[0m svg_to_dxf(\u001b[38;5;124mf\u001b[39m\u001b[38;5;124m'\u001b[39m\u001b[38;5;132;01m{\u001b[39;00mfile\u001b[38;5;132;01m}\u001b[39;00m\u001b[38;5;124m.svg\u001b[39m\u001b[38;5;124m'\u001b[39m, \u001b[38;5;124mf\u001b[39m\u001b[38;5;124m'\u001b[39m\u001b[38;5;132;01m{\u001b[39;00mfile\u001b[38;5;132;01m}\u001b[39;00m\u001b[38;5;124m.dxf\u001b[39m\u001b[38;5;124m'\u001b[39m)\n",
      "Cell \u001b[1;32mIn[12], line 18\u001b[0m, in \u001b[0;36msvg_to_dxf\u001b[1;34m(svg_path, dxf_path)\u001b[0m\n\u001b[0;32m     15\u001b[0m     points \u001b[38;5;241m=\u001b[39m [\u001b[38;5;28mtuple\u001b[39m(\u001b[38;5;28mmap\u001b[39m(\u001b[38;5;28mfloat\u001b[39m, p\u001b[38;5;241m.\u001b[39msplit(\u001b[38;5;124m'\u001b[39m\u001b[38;5;124m,\u001b[39m\u001b[38;5;124m'\u001b[39m))) \u001b[38;5;28;01mfor\u001b[39;00m p \u001b[38;5;129;01min\u001b[39;00m points]\n\u001b[0;32m     16\u001b[0m     msp\u001b[38;5;241m.\u001b[39madd_polyline2d(points)\n\u001b[1;32m---> 18\u001b[0m doc\u001b[38;5;241m.\u001b[39msaveas(dxf_path)\n",
      "File \u001b[1;32mc:\\Users\\soporte.RIVAS\\AppData\\Local\\anaconda3\\Lib\\site-packages\\ezdxf\\document.py:529\u001b[0m, in \u001b[0;36mDrawing.saveas\u001b[1;34m(self, filename, encoding, fmt)\u001b[0m\n\u001b[0;32m    516\u001b[0m \u001b[38;5;250m\u001b[39m\u001b[38;5;124;03m\"\"\"Set :class:`Drawing` attribute :attr:`filename` to `filename` and\u001b[39;00m\n\u001b[0;32m    517\u001b[0m \u001b[38;5;124;03mwrite drawing to the file system. Override file encoding by argument\u001b[39;00m\n\u001b[0;32m    518\u001b[0m \u001b[38;5;124;03m`encoding`, handle with care, but this option allows you to create DXF\u001b[39;00m\n\u001b[1;32m   (...)\u001b[0m\n\u001b[0;32m    526\u001b[0m \n\u001b[0;32m    527\u001b[0m \u001b[38;5;124;03m\"\"\"\u001b[39;00m\n\u001b[0;32m    528\u001b[0m \u001b[38;5;28mself\u001b[39m\u001b[38;5;241m.\u001b[39mfilename \u001b[38;5;241m=\u001b[39m \u001b[38;5;28mstr\u001b[39m(filename)\n\u001b[1;32m--> 529\u001b[0m \u001b[38;5;28mself\u001b[39m\u001b[38;5;241m.\u001b[39msave(encoding\u001b[38;5;241m=\u001b[39mencoding, fmt\u001b[38;5;241m=\u001b[39mfmt)\n",
      "File \u001b[1;32mc:\\Users\\soporte.RIVAS\\AppData\\Local\\anaconda3\\Lib\\site-packages\\ezdxf\\document.py:555\u001b[0m, in \u001b[0;36mDrawing.save\u001b[1;34m(self, encoding, fmt)\u001b[0m\n\u001b[0;32m    552\u001b[0m     enc \u001b[38;5;241m=\u001b[39m encoding\n\u001b[0;32m    554\u001b[0m \u001b[38;5;28;01mif\u001b[39;00m fmt\u001b[38;5;241m.\u001b[39mstartswith(\u001b[38;5;124m\"\u001b[39m\u001b[38;5;124masc\u001b[39m\u001b[38;5;124m\"\u001b[39m):\n\u001b[1;32m--> 555\u001b[0m     fp \u001b[38;5;241m=\u001b[39m io\u001b[38;5;241m.\u001b[39mopen(\n\u001b[0;32m    556\u001b[0m         \u001b[38;5;28mself\u001b[39m\u001b[38;5;241m.\u001b[39mfilename, mode\u001b[38;5;241m=\u001b[39m\u001b[38;5;124m\"\u001b[39m\u001b[38;5;124mwt\u001b[39m\u001b[38;5;124m\"\u001b[39m, encoding\u001b[38;5;241m=\u001b[39menc, errors\u001b[38;5;241m=\u001b[39m\u001b[38;5;124m\"\u001b[39m\u001b[38;5;124mdxfreplace\u001b[39m\u001b[38;5;124m\"\u001b[39m  \u001b[38;5;66;03m# type: ignore\u001b[39;00m\n\u001b[0;32m    557\u001b[0m     )\n\u001b[0;32m    558\u001b[0m \u001b[38;5;28;01melif\u001b[39;00m fmt\u001b[38;5;241m.\u001b[39mstartswith(\u001b[38;5;124m\"\u001b[39m\u001b[38;5;124mbin\u001b[39m\u001b[38;5;124m\"\u001b[39m):\n\u001b[0;32m    559\u001b[0m     fp \u001b[38;5;241m=\u001b[39m \u001b[38;5;28mopen\u001b[39m(\u001b[38;5;28mself\u001b[39m\u001b[38;5;241m.\u001b[39mfilename, \u001b[38;5;124m\"\u001b[39m\u001b[38;5;124mwb\u001b[39m\u001b[38;5;124m\"\u001b[39m)  \u001b[38;5;66;03m# type: ignore\u001b[39;00m\n",
      "\u001b[1;31mPermissionError\u001b[0m: [Errno 13] Permission denied: 'tractor2.dxf'"
     ]
    }
   ],
   "source": [
    "file = \"tractor2\"\n",
    "\n",
    "png_to_svg(f'{file}.png', f'{file}.svg')\n",
    "svg_to_dxf(f'{file}.svg', f'{file}.dxf')"
   ]
  }
 ],
 "metadata": {
  "kernelspec": {
   "display_name": "base",
   "language": "python",
   "name": "python3"
  },
  "language_info": {
   "codemirror_mode": {
    "name": "ipython",
    "version": 3
   },
   "file_extension": ".py",
   "mimetype": "text/x-python",
   "name": "python",
   "nbconvert_exporter": "python",
   "pygments_lexer": "ipython3",
   "version": "3.11.9"
  }
 },
 "nbformat": 4,
 "nbformat_minor": 2
}
